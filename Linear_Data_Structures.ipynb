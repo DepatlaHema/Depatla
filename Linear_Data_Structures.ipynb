{
  "nbformat": 4,
  "nbformat_minor": 0,
  "metadata": {
    "colab": {
      "private_outputs": true,
      "provenance": [],
      "authorship_tag": "ABX9TyMgbkN/I8sGItuR4pgKSTmg",
      "include_colab_link": true
    },
    "kernelspec": {
      "name": "python3",
      "display_name": "Python 3"
    },
    "language_info": {
      "name": "python"
    }
  },
  "cells": [
    {
      "cell_type": "markdown",
      "metadata": {
        "id": "view-in-github",
        "colab_type": "text"
      },
      "source": [
        "<a href=\"https://colab.research.google.com/github/DepatlaHema/Depatla/blob/main/Linear_Data_Structures.ipynb\" target=\"_parent\"><img src=\"https://colab.research.google.com/assets/colab-badge.svg\" alt=\"Open In Colab\"/></a>"
      ]
    },
    {
      "cell_type": "code",
      "source": [
        "def find(array, len, summ):\n",
        "    print(\"Pairs whose sum is : \", summ)\n",
        "    for i in range(len):\n",
        "        for j in range(i, len):\n",
        "            if (array[i] + array[j]) == summ:\n",
        "                print(array[i], array[j])\n",
        "\n",
        "\n",
        "array = [5, 2, 3, 4, 1, 6, 7]\n",
        "\n",
        "# Take sum as input from user\n",
        "summ = 7\n",
        "\n",
        "# print array\n",
        "print(\"Array= \", array)\n",
        "\n",
        "# call function find\n",
        "find(array, len(array), summ)"
      ],
      "metadata": {
        "id": "11uw3KuCfJ2s"
      },
      "execution_count": null,
      "outputs": []
    },
    {
      "cell_type": "code",
      "source": [
        "#The original array\n",
        "arr = [12,1,4,16,18,20,22,24,25]\n",
        "print(\"Before reversal Array is :\",arr)\n",
        " \n",
        "arr.reverse() #reversing using reverse()\n",
        "print(\"After reversing Array:\",arr)"
      ],
      "metadata": {
        "id": "fLNkIciMtae5"
      },
      "execution_count": null,
      "outputs": []
    },
    {
      "cell_type": "code",
      "source": [
        "##3rd question\n",
        "def solve(s, t):\n",
        "   if len(s) != len(t):\n",
        "      return False\n",
        "   s = s + s\n",
        "   return True if s.find(t) != -1 else False\n",
        "\n",
        "s = \"koLKAta\"\n",
        "t = \"KAtakoL\"\n",
        "print(solve(s, t))"
      ],
      "metadata": {
        "id": "SQS8iQ1PfJ50"
      },
      "execution_count": null,
      "outputs": []
    },
    {
      "cell_type": "code",
      "source": [
        "#4th question\n",
        "# String\n",
        "myStr = \"thisisit\"\n",
        "\n",
        "# Looping\n",
        "while myStr != \"\":\n",
        "\tslen0 = len(myStr)\n",
        "\tch = myStr[0]\n",
        "\tmyStr = myStr.replace(ch, \"\")\n",
        "\tslen1 = len(myStr)\n",
        "\tif slen1 == slen0-1:\n",
        "\t\tprint (\"First non-repeating character = \",ch)\n",
        "\t\tbreak;\n",
        "\telse:\n",
        "\t\tprint (\"No Unique Character Found!\")"
      ],
      "metadata": {
        "id": "ErwrSXx7fJ8u"
      },
      "execution_count": null,
      "outputs": []
    },
    {
      "cell_type": "code",
      "source": [
        "#5th question:- tower of hanoi\n",
        "\n",
        "def hanoi(disks, source, auxiliary, target):\n",
        "    if disks == 1:\n",
        "        print('Move disk 1 from peg {} to peg {}.'.format(source, target))\n",
        "        return\n",
        " \n",
        "    hanoi(disks - 1, source, target, auxiliary)\n",
        "    print('Move disk {} from peg {} to peg {}.'.format(disks, source, target))\n",
        "    hanoi(disks - 1, auxiliary, source, target)\n",
        " \n",
        " \n",
        "disks = int(input('Enter number of disks: '))\n",
        "hanoi(disks, 'A', 'B', 'C')"
      ],
      "metadata": {
        "id": "2pbIlC3gfJ_f"
      },
      "execution_count": null,
      "outputs": []
    },
    {
      "cell_type": "code",
      "source": [
        "# Q5. Read about the Tower of Hanoi algorithm. Write a program to implement it.\n",
        "\n",
        "# This can be done with resursive approach\n",
        "\n",
        "def towerOfHanoi(numbers,start,helper,end):\n",
        "\t\tif numbers == 1:\n",
        "\t\t\t\tprint(f\"Move disk {numbers} from {start} to {end}\")\n",
        "\t\t\t\treturn\n",
        "\t\ttowerOfHanoi(numbers - 1, start, end, helper)\n",
        "\t\tprint(f\"Move disk {numbers} from {start} to {end}\")\n",
        "\t\ttowerOfHanoi(numbers - 1, helper, start, end)\n",
        "\t\n",
        "disk = 3\n",
        "towerOfHanoi(disk, \"A\",\"B\",\"C\")\n"
      ],
      "metadata": {
        "id": "0W9_Ehjy32Ob"
      },
      "execution_count": null,
      "outputs": []
    },
    {
      "cell_type": "code",
      "source": [
        "# Q6. Read about infix, prefix, and postfix expressions.\n",
        "# Write a program to convert postfix to prefix expression.\n",
        "\n",
        "expression = \"ABC/-AK/L-*\"\n",
        "operators = [\"-\", \"+\", \"/\", \"*\"]\n",
        "stack = []\n",
        "\n",
        "for i in expression:\n",
        "    if i in operators:\n",
        "        operand1 = stack.pop()\n",
        "        operand2 = stack.pop()\n",
        "        result = i + operand2 + operand1\n",
        "        stack.append(result)\n",
        "    else:\n",
        "        stack.append(i)\n",
        "\n",
        "print(f\"Prefix expression: {expression},\\nPostfix expression:  {stack[0]}\")"
      ],
      "metadata": {
        "id": "7QdIZ9nffKCH"
      },
      "execution_count": null,
      "outputs": []
    },
    {
      "cell_type": "code",
      "source": [
        "##Q7. Write a program to convert prefix expression to infix expression.\n",
        "\n",
        "def prefixToInfix(expression):\n",
        "    stack = []\n",
        "    # we need to reverse the expression to add operands first in the stack before operators\n",
        "    exp = expression[::-1]\n",
        "\n",
        "    for char in exp:\n",
        "        if char in [\"+\", \"-\", \"*\", \"/\"]:\n",
        "            operand1 = stack.pop()\n",
        "            operand2 = stack.pop()\n",
        "            result = operand1 + char + operand2\n",
        "            stack.append(result)\n",
        "            \n",
        "        else:\n",
        "            stack.append(char)\n",
        "\n",
        "    return result\n",
        "\n",
        "prefixToInfix(\"+-*AB/CDE\")"
      ],
      "metadata": {
        "id": "0uEOhx8zfKE8"
      },
      "execution_count": null,
      "outputs": []
    },
    {
      "cell_type": "code",
      "source": [
        "#8th question, checking brackets are balanced or not\n",
        "\n",
        "def isMatch(ch1, ch2):\n",
        "    if ch1 == '(' and ch2 == ')':\n",
        "        return True\n",
        "    if ch1 == '[' and ch2 == ']':\n",
        "        return True\n",
        "    if ch1 == '{' and ch2 == '}':\n",
        "        return True\n",
        "    return False\n",
        "\n",
        "def isBalanced(s):\n",
        "    top = -1\n",
        "    for i in range(len(s)):\n",
        "        # If top <0 or the current character is not matched\n",
        "        # with the with open bracket at the top index\n",
        "        if top < 0 or not isMatch(s[top], s[i]):\n",
        "            top += 1\n",
        "            s[top] = s[i]\n",
        "        else:\n",
        "            top -= 1\n",
        "   \n",
        "    return True if top == -1 else False\n",
        "\n",
        "\n",
        "def main():\n",
        "    s = \"{()[[]}\"\n",
        "\n",
        "    if isBalanced(list(s)):\n",
        "        print(\"Balanced\")\n",
        "    else:\n",
        "        print(\"Not Balanced\")\n",
        "\n",
        "main()"
      ],
      "metadata": {
        "id": "C3ji2A-WfKH0"
      },
      "execution_count": null,
      "outputs": []
    },
    {
      "cell_type": "code",
      "source": [
        "# Q8. Write a program to check if all the brackets are closed in a given code snippet.\n",
        "\n",
        "def checkBrackets(snippet):\n",
        "\n",
        "    stack = []\n",
        "    closingBracketsData = {'{': '}', '[': ']', '(': ')'}\n",
        "\n",
        "    for char in snippet:\n",
        "      \n",
        "        if char in closingBracketsData:\n",
        "            stack.append(char)  \n",
        "\n",
        "        elif char in closingBracketsData.values():\n",
        "            if not stack:\n",
        "                return False\n",
        "            elif closingBracketsData[stack[-1]] != char:\n",
        "                return False\n",
        "            else:\n",
        "                stack.pop()\n",
        "    \n",
        "    return not stack\n",
        "\n",
        "\n",
        "print(checkBrackets(\"{([()]}\")) # False\n",
        "print(checkBrackets(\"{[(])}\")) # False\n",
        "print(checkBrackets(\"{[{[{[{{[[(())]]}}]}]}]}\")) # True"
      ],
      "metadata": {
        "id": "yjWfjWSF83AU"
      },
      "execution_count": null,
      "outputs": []
    },
    {
      "cell_type": "code",
      "source": [
        "# Q9. Write a program to reverse a stack.\n",
        "\n",
        "def reverse_stack(stack):\n",
        "  \n",
        "    tempStack = Stack()\n",
        "    while not stack.isEmpty():\n",
        "        tempStack.push(stack.pop())\n",
        "\n",
        "    return tempStack\n",
        "\n",
        "stack = Stack()\n",
        "stack.push(10)\n",
        "stack.push(30)\n",
        "stack.push(60)\n",
        "stack.push(90)\n",
        "\n",
        "print(stack.data) # should print [10, 30, 60, 90]\n",
        "\n",
        "reversed_stack = reverse_stack(stack)\n",
        "\n",
        "print(reversed_stack.data) # should print [90, 60, 30, 10]\n",
        "\n"
      ],
      "metadata": {
        "id": "Qoqoyao7966n"
      },
      "execution_count": null,
      "outputs": []
    },
    {
      "cell_type": "code",
      "source": [
        "def smallestStackVal(stack):\n",
        "\n",
        "    popped_element = stack.pop()\n",
        "    for val in stack:\n",
        "        if val < popped_element:\n",
        "            popped_element = val\n",
        "\n",
        "    return popped_element\n",
        "\n",
        "stack = [1,5,-988,9,-19,-3,9,7,6,7,-222]\n",
        "smallestStackVal(stack)"
      ],
      "metadata": {
        "id": "MpLp4mqVvSWz"
      },
      "execution_count": null,
      "outputs": []
    },
    {
      "cell_type": "code",
      "source": [],
      "metadata": {
        "id": "PAc_0Spa5DWs"
      },
      "execution_count": null,
      "outputs": []
    },
    {
      "cell_type": "code",
      "source": [],
      "metadata": {
        "id": "Neki0NyFvSjh"
      },
      "execution_count": null,
      "outputs": []
    },
    {
      "cell_type": "code",
      "source": [],
      "metadata": {
        "id": "yGnEbOqxvSm_"
      },
      "execution_count": null,
      "outputs": []
    }
  ]
}